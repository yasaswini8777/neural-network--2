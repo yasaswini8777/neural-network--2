{
 "cells": [
  {
   "cell_type": "code",
   "execution_count": 1,
   "id": "1526d9fd",
   "metadata": {},
   "outputs": [
    {
     "name": "stdout",
     "output_type": "stream",
     "text": [
      "Your First Name : yasaswini \n",
      "Your Last Name : majety\n",
      "yasaswini majety\n"
     ]
    }
   ],
   "source": [
    "First_name = ( input(\"Your First Name : \"))\n",
    "last_name = (input(\"Your Last Name : \"))\n",
    "Full_Name = print(First_name + last_name)\n"
   ]
  },
  {
   "cell_type": "code",
   "execution_count": 2,
   "id": "f3ce2aae",
   "metadata": {},
   "outputs": [
    {
     "name": "stdout",
     "output_type": "stream",
     "text": [
      "Go vnn\n"
     ]
    }
   ],
   "source": [
    "def string_alternative(Str):\n",
    "   output = \"\"\n",
    "   for a in range(len(Str)):\n",
    "       if a % 2 == 0:\n",
    "           output += Str[a]\n",
    "   return output\n",
    "print(string_alternative(\"Good evening\"))"
   ]
  },
  {
   "cell_type": "code",
   "execution_count": 3,
   "id": "6f06dddd",
   "metadata": {},
   "outputs": [
    {
     "name": "stdout",
     "output_type": "stream",
     "text": [
      "{'\\ufeffPython': 1, 'course': 2, 'Depp': 1, 'learning': 1}\n"
     ]
    }
   ],
   "source": [
    "file1 = open('input.txt', 'r')\n",
    "counts = dict()\n",
    "data = file1.read()\n",
    "words = data.split()\n",
    "for word in words:\n",
    "   if word in counts:\n",
    "       counts[word] += 1\n",
    "   else:\n",
    "       counts[word] = 1\n",
    "print(counts)"
   ]
  },
  {
   "cell_type": "code",
   "execution_count": 5,
   "id": "c48205fb",
   "metadata": {},
   "outputs": [
    {
     "name": "stdout",
     "output_type": "stream",
     "text": [
      "150 155 145 148\n",
      "[381.0, 393.7, 368.3, 375.92]\n"
     ]
    }
   ],
   "source": [
    "L1=list(map(float,input().split()))\n",
    "L2=[]\n",
    "for x in L1:\n",
    "   x=x*2.54\n",
    "   L2.append(x)\n",
    "print(L2)\n",
    "      "
   ]
  },
  {
   "cell_type": "code",
   "execution_count": 6,
   "id": "e85dc3a5",
   "metadata": {},
   "outputs": [
    {
     "name": "stdout",
     "output_type": "stream",
     "text": [
      "150 155 145 148\n",
      "[381.0, 393.7, 368.3, 375.92]\n"
     ]
    }
   ],
   "source": [
    "L1=list(map(float,input().split()))\n",
    "L2=[x*2.54 for x in L1]\n",
    "print(L2)\n"
   ]
  },
  {
   "cell_type": "code",
   "execution_count": null,
   "id": "60ee9591",
   "metadata": {},
   "outputs": [],
   "source": []
  },
  {
   "cell_type": "code",
   "execution_count": null,
   "id": "0bd90fb1",
   "metadata": {},
   "outputs": [],
   "source": []
  }
 ],
 "metadata": {
  "kernelspec": {
   "display_name": "Python 3 (ipykernel)",
   "language": "python",
   "name": "python3"
  },
  "language_info": {
   "codemirror_mode": {
    "name": "ipython",
    "version": 3
   },
   "file_extension": ".py",
   "mimetype": "text/x-python",
   "name": "python",
   "nbconvert_exporter": "python",
   "pygments_lexer": "ipython3",
   "version": "3.11.5"
  }
 },
 "nbformat": 4,
 "nbformat_minor": 5
}
